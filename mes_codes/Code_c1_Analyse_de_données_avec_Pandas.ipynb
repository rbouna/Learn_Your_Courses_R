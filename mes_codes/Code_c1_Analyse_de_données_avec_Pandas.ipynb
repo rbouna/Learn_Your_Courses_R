{
  "nbformat": 4,
  "nbformat_minor": 0,
  "metadata": {
    "colab": {
      "provenance": []
    },
    "kernelspec": {
      "name": "python3",
      "display_name": "Python 3"
    },
    "language_info": {
      "name": "python"
    }
  },
  "cells": [
    {
      "cell_type": "markdown",
      "source": [
        "# Projet analyse des données Bancaires"
      ],
      "metadata": {
        "id": "_RYt2FuCMbB4"
      }
    },
    {
      "cell_type": "markdown",
      "source": [
        "## Contexte\n",
        "\n",
        "  Vous êtes data scientist/data analist dans une banque et votre banque souhaite analyser efficacité les compagnes de marketing cliets basées sur les appels téléphoniques.\n",
        "\n",
        "  L'objectif est de détermiter si ces compagnes influencent positivement les  souscription des clients à des dépots à terme.\n",
        "\n",
        "  Pour cela vous disposez de quatre ensembles de données détaillants les interactions avec les clients sur une periode allant de MAI 2008 à Novembre 2010"
      ],
      "metadata": {
        "id": "O38-3SP_NBCE"
      }
    },
    {
      "cell_type": "markdown",
      "source": [
        "## Objectif\n",
        "\n",
        "  Votre mission consitexe à faire une analyse exploratoire des données pour identifier les tendances :  les comportements des variables pertinents qui peuvent aider la banque à optimiser les futures compagnes Marketing."
      ],
      "metadata": {
        "id": "KkzSrubxe6H4"
      }
    },
    {
      "cell_type": "markdown",
      "source": [
        "## Le site des bases de données : https://archive.ics.uci.edu/"
      ],
      "metadata": {
        "id": "OWBJzQ93lUxU"
      }
    },
    {
      "cell_type": "markdown",
      "source": [
        "# Jeu de données"
      ],
      "metadata": {
        "id": "LxDn0yozmHa8"
      }
    },
    {
      "cell_type": "markdown",
      "source": [
        "Vous disposez du jeu  de donnée donnee_marketing_banque.csv qui corresponds à 41 188 exemplaires avec..... de 2008 à novembre 2010. Ces données influent les informations sur les appels effectues. Les caractéristiques des clients(ment de liste\n",
        "\n"
      ],
      "metadata": {
        "id": "wg6IQ3YCmMP_"
      }
    },
    {
      "cell_type": "code",
      "execution_count": null,
      "metadata": {
        "id": "-nQC3HrPHVbL"
      },
      "outputs": [],
      "source": []
    },
    {
      "cell_type": "code",
      "source": [],
      "metadata": {
        "id": "JyxTdtjDNCum"
      },
      "execution_count": null,
      "outputs": []
    }
  ]
}